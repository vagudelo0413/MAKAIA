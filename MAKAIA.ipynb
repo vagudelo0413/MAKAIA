{
  "nbformat": 4,
  "nbformat_minor": 0,
  "metadata": {
    "colab": {
      "provenance": [],
      "authorship_tag": "ABX9TyPSnc6TxfjnTT/VR20JwXia",
      "include_colab_link": true
    },
    "kernelspec": {
      "name": "python3",
      "display_name": "Python 3"
    },
    "language_info": {
      "name": "python"
    }
  },
  "cells": [
    {
      "cell_type": "markdown",
      "metadata": {
        "id": "view-in-github",
        "colab_type": "text"
      },
      "source": [
        "<a href=\"https://colab.research.google.com/github/vagudelo0413/MAKAIA/blob/main/MAKAIA.ipynb\" target=\"_parent\"><img src=\"https://colab.research.google.com/assets/colab-badge.svg\" alt=\"Open In Colab\"/></a>"
      ]
    },
    {
      "cell_type": "code",
      "execution_count": null,
      "metadata": {
        "id": "UUhYhCfqfP08"
      },
      "outputs": [],
      "source": [
        "#Esto es una celda de codigo\n",
        "\n",
        "texto = \"hola mundo\"\n",
        "#%%\n",
        "print(texto)\n",
        "#%%\n",
        "texto #pones tu texto\n",
        "#%%\n",
        "edad = 32\n",
        "edad_en_dias = edad * 365\n",
        "print(edad_en_dias)\n",
        "print(\"La edad de:\",edad,\" años corresponde a:\",edad_en_dias,\" dias\" )\n",
        "print('La edad de:',edad,' años corresponde a:',edad_en_dias,' dias' )\n",
        "print(f\"la edad de: {edad} equivale a {edad_en_dias} dias\")\n",
        "#%% md\n",
        "Como importo una libreria en Python?\n",
        "#%%\n",
        "import math #traemos toda la libreria\n",
        "#%%\n",
        "from math import factorial, cos, pi #solo traemos las funciones indicadas\n",
        "#%%\n",
        "import numpy as np\n",
        "from math import pi as numero_pi\n",
        "#%%\n",
        "print(numero_pi)\n",
        "#%%\n",
        "factorial = math.factorial(6)\n",
        "factorial\n",
        "#%%\n",
        "print(math.pi)\n",
        "#%%\n",
        "resultado_cos = math.cos(2*math.pi)\n",
        "print(resultado_cos)\n",
        "\n",
        "print(math.cos(2))\n",
        "#%% md\n",
        "Ayudas y descripciones en Python\n",
        "#%%\n",
        "help(math)\n",
        "#%% md\n",
        "Tipos de datos fundamentales en Python\n",
        "#%%\n",
        "#enteros\n",
        "x = 177777777777777777777777777777777\n",
        "type(x) #imprime el tipo de dato de la variable\n",
        "#%%\n",
        "x = 1.0\n",
        "type(x)\n",
        "#%%\n",
        "#tipo de dato booleano\n",
        "bool1 = True\n",
        "bool2 = False\n",
        "\n",
        "type(bool1) , type(bool2)\n",
        "#%%\n",
        "#tipo de dato string\n",
        "s = 'Hola mundo'\n",
        "type(s)\n",
        "#%% md\n",
        "Operadores y comparaciones\n",
        "#%%\n",
        "suma = 1 + 2.0\n",
        "print(suma)\n",
        "#%%\n",
        "resta = 5 - 3\n",
        "resta\n",
        "#%%\n",
        "multi = 4 * 5\n",
        "multi\n",
        "#%%\n",
        "divi = 8 / 10\n",
        "divi\n",
        "#%%\n",
        "potenciacion = 2 ** 3\n",
        "potenciacion\n",
        "#%%\n",
        "modulo = 10 % 2\n",
        "modulo\n",
        "#%%\n",
        "print(11/6)\n",
        "#%%\n",
        "import math\n",
        "#%%\n",
        "print(math.sqrt(81))\n",
        "#%%\n",
        "False and True\n",
        "#%%\n",
        "not True\n",
        "#%%\n",
        "False or True\n",
        "#%%\n",
        "2<1 , 10>8, 4<=4, 5>=10, 4 == 10, 2 != 10\n",
        "#%%\n",
        "\"gusta\" in \"Me gusta estar bien\"\n",
        "#%% md\n",
        "Atajos de operaciones matematicas\n",
        "\n",
        "#%%\n",
        "multi = 2 * 2\n",
        "multi\n",
        "#%%\n",
        "a = 2\n",
        "#a = a * 2\n",
        "a *= 2\n",
        "a\n",
        "#%%\n",
        "b = 4\n",
        "b += 2\n",
        "b\n",
        "#%%\n",
        "c = 10\n",
        "c -= 5\n",
        "c\n",
        "#%%\n",
        "d = 8\n",
        "d /= 3\n",
        "d\n",
        "#%% md\n",
        "Manejo de strings\n",
        "#%%\n",
        "vble = 'Hola mundo'\n",
        "type(vble)\n",
        "#%%\n",
        "len(vble) #obtener la longitud de la variable string\n",
        "#%%\n",
        "#reemplazo string dentro de otro string\n",
        "new_vble = vble.replace(\"Hola\",\"Hello\")\n",
        "new_vble\n",
        "#%%\n",
        "a = 'Esta selección de canciones nacionales e internacionales interpretadas por artistas y grupos tan diferentes como Rosana, Fangoria, Coldplay y Pet Shop Boys, entre otros, seguro que te ayudan a afrontar el confinamiento con mayor optimismo gracias a sus letras y melodías motivadoras e inspiradoras.'\n",
        "#%%\n",
        "len(a)\n",
        "#%%\n",
        "\"seleccion\" in a\n",
        "#%%\n",
        "a = a.replace('selección','seleccion')\n",
        "#%%\n",
        "a\n",
        "#%%\n",
        "print(a[5])\n",
        "#%%\n",
        "a[0], a[1], a[2], a[3], a[4], a[5], a[6], a[7], a[8], a[9], a[10]\n",
        "#%%\n",
        "a[0:20] #posicion inicial : posicion final\n",
        "#%%\n",
        "a[18:] # posicion inicial : [blanco] (traerme todo)\n",
        "#%%\n",
        "a[:]\n",
        "#%%\n",
        "a[0:18:1] #posicion inicial : posicion final : paso\n",
        "#%%\n",
        "print(\"comun\"+\"mente\")\n",
        "#%%\n",
        "print(\"comun\", 1.0, False, 56 )\n",
        "#%%\n",
        "print(\"value = %.6f\" %3.34)"
      ]
    },
    {
      "cell_type": "markdown",
      "source": [
        "# Manejo básico de strings 5/15/2024\n"
      ],
      "metadata": {
        "id": "zc5pMHfF0WDD"
      }
    },
    {
      "cell_type": "code",
      "source": [
        "s2 = \"value1 = %.3f value2 = %d\" % (3.1415, 1.9)\n",
        "print(s2)\n",
        "#f valores flotantes, d valores enteros"
      ],
      "metadata": {
        "colab": {
          "base_uri": "https://localhost:8080/"
        },
        "id": "87wS1NudwlPG",
        "outputId": "f07c3e2d-c1ef-4eb3-b791-cb51a418be08"
      },
      "execution_count": null,
      "outputs": [
        {
          "output_type": "stream",
          "name": "stdout",
          "text": [
            "value1 = 3.142 value2 = 1\n"
          ]
        }
      ]
    },
    {
      "cell_type": "code",
      "source": [
        "ejemplo3='vble1={:.2f}, vble2={}'.format(6454.6656556,2.53232)\n",
        "print(ejemplo3)"
      ],
      "metadata": {
        "colab": {
          "base_uri": "https://localhost:8080/"
        },
        "id": "wilWrY73woRd",
        "outputId": "a9a1d0da-23a4-4fc9-d28e-703919d49e59"
      },
      "execution_count": null,
      "outputs": [
        {
          "output_type": "stream",
          "name": "stdout",
          "text": [
            "vble1=6454.67, vble2=2.53232\n"
          ]
        }
      ]
    },
    {
      "cell_type": "code",
      "source": [
        "#para un salto de linea usamos \\n\n",
        "print('las lineas nuevas son indicadas por \\n los espacios de \\t ...')"
      ],
      "metadata": {
        "colab": {
          "base_uri": "https://localhost:8080/"
        },
        "id": "ySSRw9TbzkOS",
        "outputId": "2630e0e9-b5da-4a33-cbf4-51e3b111dfc7"
      },
      "execution_count": null,
      "outputs": [
        {
          "output_type": "stream",
          "name": "stdout",
          "text": [
            "las lineas nuevas son indicadas por \n",
            " los espacios de \t ...\n"
          ]
        }
      ]
    },
    {
      "cell_type": "code",
      "source": [
        "impresion = 'Los resultados de la variable de tiempo son\\n tiempo={:.2f}'.format(3.62226)\n",
        "print(impresion)"
      ],
      "metadata": {
        "colab": {
          "base_uri": "https://localhost:8080/"
        },
        "id": "hiaYlKWs0kHy",
        "outputId": "be8ea64e-a228-42b1-d70c-5170561112b3"
      },
      "execution_count": null,
      "outputs": [
        {
          "output_type": "stream",
          "name": "stdout",
          "text": [
            "Los resultados de la variable de tiempo son\n",
            " tiempo=3.62\n"
          ]
        }
      ]
    },
    {
      "cell_type": "code",
      "source": [
        "print(90*\".\")\n",
        "print('Aca va el texto de la explicacion de negocio que quiero dar')\n",
        "print(90*'.')"
      ],
      "metadata": {
        "colab": {
          "base_uri": "https://localhost:8080/"
        },
        "id": "yaK1Tpo719vC",
        "outputId": "e20d94f8-e3b9-4a97-c7f4-8a8b3c157f21"
      },
      "execution_count": null,
      "outputs": [
        {
          "output_type": "stream",
          "name": "stdout",
          "text": [
            "..........................................................................................\n",
            "Aca va el texto de la explicacion de negocio que quiero dar\n",
            "..........................................................................................\n"
          ]
        }
      ]
    },
    {
      "cell_type": "code",
      "source": [
        "#implementacion de variables dentro de un string\n",
        "print('mi nombre es {nombre} y vivo en la ciudad de {ciudad}.'.format(nombre='María', ciudad='Cartagena'))"
      ],
      "metadata": {
        "colab": {
          "base_uri": "https://localhost:8080/"
        },
        "id": "eRh2GNY12rDH",
        "outputId": "ed7d3c4c-6a39-46f8-a3e2-3de5f2c91530"
      },
      "execution_count": null,
      "outputs": [
        {
          "output_type": "stream",
          "name": "stdout",
          "text": [
            "mi nombre es María y vivo en la ciudad de Cartagena.\n"
          ]
        }
      ]
    },
    {
      "cell_type": "code",
      "source": [
        "ejemplo4= 'nombre:{}\\n Número:{}\\n String: {}'.format('Python', 2023, 12*'a')"
      ],
      "metadata": {
        "id": "iS_goG615jJt"
      },
      "execution_count": null,
      "outputs": []
    },
    {
      "cell_type": "markdown",
      "source": [
        "# Manejo listas\n"
      ],
      "metadata": {
        "id": "PV17aAyN7dX3"
      }
    },
    {
      "cell_type": "code",
      "source": [
        "#listas\n",
        "lista1=['Maria', 2023.5, True, 65465]\n",
        "type(lista1)\n",
        "\n",
        "print(lista1[1])\n",
        "print(lista1[0:2])\n",
        "print(lista1[2:])\n",
        "\n",
        "##listas anidadas\n",
        "big_lista= [['saludos', 2000], 5400, True, 5531,565]\n",
        "print(big_lista[1], big_lista[2])\n",
        "\n"
      ],
      "metadata": {
        "colab": {
          "base_uri": "https://localhost:8080/"
        },
        "id": "okKmJ_ng7jis",
        "outputId": "2dee4f60-ddc3-4e50-fd3b-eea4f41f9bed"
      },
      "execution_count": null,
      "outputs": [
        {
          "output_type": "stream",
          "name": "stdout",
          "text": [
            "2023.5\n",
            "['Maria', 2023.5]\n",
            "[True, 65465]\n",
            "5400 True\n"
          ]
        }
      ]
    },
    {
      "cell_type": "code",
      "source": [
        "inicio=5\n",
        "final=100\n",
        "paso=5\n",
        "lista_nueva=list( range(inicio,final,paso))\n",
        "print(lista_nueva)"
      ],
      "metadata": {
        "colab": {
          "base_uri": "https://localhost:8080/"
        },
        "id": "Elh7ApJZ_lTJ",
        "outputId": "11d38f04-922f-4c10-f92c-00bc4de15b3e"
      },
      "execution_count": null,
      "outputs": [
        {
          "output_type": "stream",
          "name": "stdout",
          "text": [
            "[5, 10, 15, 20, 25, 30, 35, 40, 45, 50, 55, 60, 65, 70, 75, 80, 85, 90, 95]\n"
          ]
        }
      ]
    },
    {
      "cell_type": "code",
      "source": [
        "#para buscar un valor en una lista y mostrar su indice\n",
        "valor_buscar= 10\n",
        "indice=lista_nueva.index(valor_buscar)\n",
        "if valor_buscar in lista_nueva:\n",
        "  print('el valor' , valor_buscar,'está en la lista y está en la posicion:', indice)"
      ],
      "metadata": {
        "colab": {
          "base_uri": "https://localhost:8080/"
        },
        "id": "Wt0djfhR_qQS",
        "outputId": "ca6a7dba-4255-4193-9c24-bb0dfd48bfeb"
      },
      "execution_count": null,
      "outputs": [
        {
          "output_type": "stream",
          "name": "stdout",
          "text": [
            "el valor 10 está en la lista y está en la posicion: 1\n"
          ]
        }
      ]
    },
    {
      "cell_type": "code",
      "source": [
        "#para adicionar un valor a la lista\n",
        "lista_nueva.append(95)\n",
        "\n",
        "\n",
        "#para eliminar un valor de una lista\n",
        "\n",
        "\n",
        "  #para cuando solo quiero eliminar un unico valor\n",
        "#lista_nueva.remove(95)\n",
        "  #para cuando el valor esta repetido\n",
        "#valor=95\n",
        "#while valor in lista_nueva:\n",
        "#  lista_nueva.remove(95)\n",
        "#print(len(lista_nueva))\n",
        "\n",
        "print(lista_nueva)\n",
        "print(len(lista_nueva))\n",
        "\n",
        "  #para cuando quiero eliminar un dato por su posicion\n",
        "#lista_nueva.pop(5)"
      ],
      "metadata": {
        "colab": {
          "base_uri": "https://localhost:8080/"
        },
        "id": "v8yud4S9Cy9t",
        "outputId": "c5f2a43f-856e-4b11-9c62-a83b8542b11a"
      },
      "execution_count": null,
      "outputs": [
        {
          "output_type": "stream",
          "name": "stdout",
          "text": [
            "[70, 60, 10, 5, 95, 95]\n",
            "6\n"
          ]
        }
      ]
    },
    {
      "cell_type": "code",
      "source": [
        "#ordenar una lista\n",
        "lista_nueva.sort(reverse=True)\n",
        "print(lista_nueva)"
      ],
      "metadata": {
        "colab": {
          "base_uri": "https://localhost:8080/"
        },
        "id": "PQLhxWfADmes",
        "outputId": "4c197901-6c9f-4be0-ca27-540dc1b123b9"
      },
      "execution_count": null,
      "outputs": [
        {
          "output_type": "stream",
          "name": "stdout",
          "text": [
            "[70, 60, 10, 5]\n"
          ]
        }
      ]
    },
    {
      "cell_type": "code",
      "source": [
        "#para agregar datos a un indice particular\n",
        "#lista_nueva[5]=1\n",
        "print(lista_nueva)\n",
        "\n",
        "#tambien\n",
        "lista_nueva.insert"
      ],
      "metadata": {
        "colab": {
          "base_uri": "https://localhost:8080/"
        },
        "id": "iO7-cge_Hmbt",
        "outputId": "cfc66be3-0540-4995-91f9-4e7e4d7ca03d"
      },
      "execution_count": null,
      "outputs": [
        {
          "output_type": "stream",
          "name": "stdout",
          "text": [
            "[70, 60, 10, 5, 95, 1]\n"
          ]
        }
      ]
    },
    {
      "cell_type": "markdown",
      "source": [
        "**Taller listas**\n"
      ],
      "metadata": {
        "id": "sI_t3Pkz6Qew"
      }
    },
    {
      "cell_type": "markdown",
      "source": [
        "1. Control de inventario de una tienda:\n",
        "Una tienda necesita un programa para administrar su inventario. Debes escribir un programa que realice las siguientes operaciones:\n",
        "\n",
        "*   Agregar un nuevo producto al inventario.\n",
        "*   Obtener el indice de un producto existente en el inventario.\n",
        "*   Eliminar un producto del inventario."
      ],
      "metadata": {
        "id": "8fGdYURR5fhy"
      }
    },
    {
      "cell_type": "code",
      "source": [
        "inventario = [\"Camiseta\", \"Pantalón\", \"Zapatos\", \"Buso\", \"Medias\", \"Chaqueta\", \"Lentes de sol\"]\n",
        "print(\"Inventario actual:\", inventario)\n",
        "\n",
        "nuevo_producto = \"Bufanda\"\n",
        "\n",
        "#Inserta aca el codigo para adicionar el nuevo producto \"Bufanda\" a la lista inventario.\n",
        "inventario.append(nuevo_producto)\n",
        "\n",
        "print(\"Nuevo producto añadido:\", nuevo_producto)\n",
        "print(\"Inventario actualizado:\", inventario)\n",
        "#El resultado esperado es ['Camiseta', 'Pantalón', 'Zapatos', 'Buso', 'Medias', 'Chaqueta', 'Lentes de sol', 'Bufanda']\n",
        "\n",
        "# Realizar la busqueda de un valor y obtener su indice\n",
        "producto_a_buscar = \"Pantalón\"\n",
        "#Inserta aca el codigo para obtener el indice de la lista dado el valor de la variable producto_a_buscar, el resultado obtenido se debe llevar a una nueva variable llamada indice_producto.\n",
        "\n",
        "indice_producto=inventario.index(producto_a_buscar)\n",
        "print(\"El producto \", producto_a_buscar, \"se encuentra en la ubicacion \", indice_producto)\n",
        "\n",
        "# Eliminar un producto\n",
        "producto_a_eliminar = \"Medias\"\n",
        "#Inserta aca el codigo para eliminar el producto \"Medias\" asignado a la variable producto_a_eliminar.\n",
        "\n",
        "inventario.remove('Medias')\n",
        "\n",
        "print(\"Producto eliminado:\", producto_a_eliminar)\n",
        "print(\"Inventario actualizado:\", inventario)\n",
        "#El resultado esperado es ['Camiseta', 'Pantalón', 'Zapatos', 'Buso', 'Chaqueta', 'Lentes de sol', 'Bufanda']"
      ],
      "metadata": {
        "colab": {
          "base_uri": "https://localhost:8080/"
        },
        "id": "a8u0Dgko5dmq",
        "outputId": "05ae7d26-6e54-4ee2-e742-b783df9c7bb1"
      },
      "execution_count": 6,
      "outputs": [
        {
          "output_type": "stream",
          "name": "stdout",
          "text": [
            "Inventario actual: ['Camiseta', 'Pantalón', 'Zapatos', 'Buso', 'Medias', 'Chaqueta', 'Lentes de sol']\n",
            "Nuevo producto añadido: Bufanda\n",
            "Inventario actualizado: ['Camiseta', 'Pantalón', 'Zapatos', 'Buso', 'Medias', 'Chaqueta', 'Lentes de sol', 'Bufanda']\n",
            "El producto  Pantalón se encuentra en la ubicacion  1\n",
            "Producto eliminado: Medias\n",
            "Inventario actualizado: ['Camiseta', 'Pantalón', 'Zapatos', 'Buso', 'Chaqueta', 'Lentes de sol', 'Bufanda']\n"
          ]
        }
      ]
    },
    {
      "cell_type": "markdown",
      "source": [
        "2. Registro de ventas diarias:\n",
        "Una empresa necesita mantener un registro de las ventas diarias. Debes escribir un programa que realice las siguientes operaciones:\n",
        "\n",
        "*   Calcular el total de ventas del día.\n",
        "*   Encontrar el día en el que se realizó la venta más alta."
      ],
      "metadata": {
        "id": "yKu_aLEp8f4g"
      }
    },
    {
      "cell_type": "code",
      "source": [
        "ventas_diarias = [100, 150, 200, 80, 120]\n",
        "print(\"Ventas diarias:\", ventas_diarias)\n",
        "\n",
        "# Calcular el total de ventas\n",
        "total_ventas = sum(ventas_diarias)\n",
        "print(\"Total de ventas:\", total_ventas)\n",
        "\n",
        "# Encontrar el día con la venta más alta\n",
        "max_venta = max(ventas_diarias)\n",
        "#print(max_venta)\n",
        "dia_max_venta = ventas_diarias.index(max_venta)\n",
        "print(\"Día con la venta más alta:\", dia_max_venta)\n"
      ],
      "metadata": {
        "colab": {
          "base_uri": "https://localhost:8080/"
        },
        "id": "m0h4B0rR8gwA",
        "outputId": "c6b357d6-cb17-4fd3-fa25-46a9a529e0ff"
      },
      "execution_count": 13,
      "outputs": [
        {
          "output_type": "stream",
          "name": "stdout",
          "text": [
            "Ventas diarias: [100, 150, 200, 80, 120]\n",
            "Total de ventas: 650\n",
            "200\n",
            "Día con la venta más alta: 2\n"
          ]
        }
      ]
    },
    {
      "cell_type": "markdown",
      "source": [
        "3. Lista de tareas pendientes:\n",
        "Un usuario necesita un programa para gestionar sus tareas pendientes. Debes escribir un programa que realice las siguientes operaciones:\n",
        "\n",
        "* Agregar una nueva tarea a la lista de tareas pendientes.\n",
        "* Marcar una tarea como completada."
      ],
      "metadata": {
        "id": "T6fu1ThAAZ9s"
      }
    },
    {
      "cell_type": "code",
      "source": [
        "tareas_pendientes = [\"Hacer ejercicio\", \"Estudiar\", \"Comprar comida\", \"Hacer taller de data\"]\n",
        "print(\"Tareas pendientes:\", tareas_pendientes)\n",
        "\n",
        "# Agregar una nueva tarea\n",
        "nueva_tarea = \"Lavar los platos\"\n",
        "#Inserta aca el codigo para adicionar el nuevo producto de la variable nueva_tarea a la lista de tareas pendientes.\n",
        "tareas_pendientes.append(nueva_tarea)\n",
        "print(\"Nueva tarea añadida:\", nueva_tarea)\n",
        "\n",
        "# Marcar una tarea como completada\n",
        "tarea_completada = \"Hacer ejercicio\"\n",
        "#Inserta aca el codigo para eliminar la tarea asignada a la variable tarea_completada.\n",
        "tareas_pendientes.remove(tarea_completada)\n",
        "print(\"Tarea completada:\", tarea_completada)\n",
        "print(\"Tareas pendientes actualizadas:\", tareas_pendientes)\n"
      ],
      "metadata": {
        "colab": {
          "base_uri": "https://localhost:8080/"
        },
        "id": "ZW0MSJ6yAZSd",
        "outputId": "e5ccec67-ff46-4b6e-fa63-ad6f55a634b9"
      },
      "execution_count": 15,
      "outputs": [
        {
          "output_type": "stream",
          "name": "stdout",
          "text": [
            "Tareas pendientes: ['Hacer ejercicio', 'Estudiar', 'Comprar comida', 'Hacer taller de data']\n",
            "Nueva tarea añadida: Lavar los platos\n",
            "Tarea completada: Hacer ejercicio\n",
            "Tareas pendientes actualizadas: ['Estudiar', 'Comprar comida', 'Hacer taller de data', 'Lavar los platos']\n"
          ]
        }
      ]
    },
    {
      "cell_type": "markdown",
      "source": [
        "4. Sistema de gestión de empleados:\n",
        "Una empresa necesita un sistema para gestionar la información de sus empleados. Debes escribir un programa que realice las siguientes operaciones:\n",
        "\n",
        "* Agregar un nuevo empleado al sistema.\n",
        "* Eliminar un empleado del sistema."
      ],
      "metadata": {
        "id": "zdbOFhVrA58K"
      }
    },
    {
      "cell_type": "code",
      "source": [
        "empleados = [\"Juan\", \"María\", \"Pedro\", \"Ana\"]\n",
        "print(\"Lista de empleados:\", empleados)\n",
        "\n",
        "# Agregar un nuevo empleado\n",
        "nuevo_empleado = \"Luis\"\n",
        "#Inserta aca el codigo para adicionar un nuevo empleado en la posicion 3.\n",
        "print(\"Nuevo empleado añadido:\", nuevo_empleado)\n",
        "\n",
        "# Eliminar un empleado\n",
        "empleado_a_eliminar = 2\n",
        "#Inserta aca el codigo para eliminar el empleado existente en la posicion 2.\n",
        "print(\"Empleado eliminado:\", empleado_a_eliminar)\n",
        "print(\"Lista de empleados actualizada:\", empleados)\n"
      ],
      "metadata": {
        "id": "vzyMVaOeA8H8"
      },
      "execution_count": null,
      "outputs": []
    },
    {
      "cell_type": "markdown",
      "source": [
        "5. Registro de asistencias en un evento:\n",
        "Un organizador de eventos necesita llevar un registro de las personas que asisten a su evento. Debes escribir un programa que realice las siguientes operaciones:\n",
        "\n",
        "* Organizar la lista de Mayor a Menor.\n",
        "* Registrar la asistencia de una persona al evento.\n",
        "* Eliminar la asistencia de una persona del registro."
      ],
      "metadata": {
        "id": "9lbwTS5kBLyi"
      }
    },
    {
      "cell_type": "code",
      "source": [
        "registro_asistencias = [\"María\", \"Juan\", \"Pedro\", \"Ana\"]\n",
        "print(\"Registro de asistencias:\", registro_asistencias)\n",
        "\n",
        "#Inserta aca el codigo para organizar la lista de Mayor a Menor.\n",
        "registro_asistencias.sort\n",
        "print(\"Registro de asistencias ordenado:\", registro_asistencias)\n",
        "\n",
        "# Registrar la asistencia de un nuevo participante\n",
        "nuevo_participante = \"Luis\"\n",
        "#Inserta aca el codigo para adicionar un nuevo asistente en la posicion 1.\n",
        "registro_asistencias[1] = nuevo_participante\n",
        "print(\"Nueva asistencia registrada:\", nuevo_participante)\n",
        "\n",
        "# Eliminar la asistencia de un participante\n",
        "participante_a_eliminar = 3\n",
        "#Inserta aca el codigo para eliminar el asistente existente en la posicion 3.\n",
        "\n",
        "registro_asistencias.remove(registro_asistencias[3])\n",
        "print(\"Asistencia de\", participante_a_eliminar, \"eliminada\")\n",
        "print(\"Registro de asistencias actualizado:\", registro_asistencias)\n"
      ],
      "metadata": {
        "colab": {
          "base_uri": "https://localhost:8080/"
        },
        "id": "ReoqxhBvBNZz",
        "outputId": "5f075297-7b83-439a-9938-5070bea67aa3"
      },
      "execution_count": 43,
      "outputs": [
        {
          "output_type": "stream",
          "name": "stdout",
          "text": [
            "Registro de asistencias: ['María', 'Juan', 'Pedro', 'Ana']\n",
            "Registro de asistencias ordenado: ['María', 'Juan', 'Pedro', 'Ana']\n",
            "Nueva asistencia registrada: Luis\n",
            "Asistencia de 3 eliminada\n",
            "Registro de asistencias actualizado: ['María', 'Luis', 'Pedro']\n"
          ]
        }
      ]
    },
    {
      "cell_type": "markdown",
      "source": [
        "6. Realizar la creacion de una lista numerica utilizando la funcion range, usando las variables: inicio, final y paso, el resultado final debe tener 50 registros numericos.\n",
        "* Realizar la sumatoria de todos los datos de la lista.\n",
        "* Imprima los datos de la lista."
      ],
      "metadata": {
        "id": "OFZopNJRBQDY"
      }
    },
    {
      "cell_type": "code",
      "source": [
        "inicio = 1\n",
        "final = 51\n",
        "paso = 1\n",
        "\n",
        "lista = list(range(inicio, final, paso))\n",
        "len(lista)\n",
        "suma_lista= sum(lista)\n",
        "\n",
        "print(lista)\n",
        "print(len(lista))\n",
        "print(suma_lista)"
      ],
      "metadata": {
        "colab": {
          "base_uri": "https://localhost:8080/"
        },
        "id": "U_zxtswdBPPY",
        "outputId": "4ad17702-bdc5-4160-97fc-b2026b7254c1"
      },
      "execution_count": 46,
      "outputs": [
        {
          "output_type": "stream",
          "name": "stdout",
          "text": [
            "[1, 2, 3, 4, 5, 6, 7, 8, 9, 10, 11, 12, 13, 14, 15, 16, 17, 18, 19, 20, 21, 22, 23, 24, 25, 26, 27, 28, 29, 30, 31, 32, 33, 34, 35, 36, 37, 38, 39, 40, 41, 42, 43, 44, 45, 46, 47, 48, 49, 50]\n",
            "50\n",
            "1275\n"
          ]
        }
      ]
    },
    {
      "cell_type": "markdown",
      "source": [
        "# Taller python norman. 5/16/2024\n"
      ],
      "metadata": {
        "id": "rVw1sG9j4Ijr"
      }
    },
    {
      "cell_type": "code",
      "source": [
        "valor1= 25*37\n",
        "valor2=3**4\n",
        "valor3=34/5\n",
        "\n",
        "print(valor1, valor2, valor3)"
      ],
      "metadata": {
        "colab": {
          "base_uri": "https://localhost:8080/"
        },
        "id": "O0s3LABG4TlC",
        "outputId": "d71e4067-9e15-4833-a343-58e2b88c82d6"
      },
      "execution_count": 1,
      "outputs": [
        {
          "output_type": "stream",
          "name": "stdout",
          "text": [
            "925 81 6.8\n"
          ]
        }
      ]
    },
    {
      "cell_type": "code",
      "source": [
        "a=7\n",
        "b=4\n",
        "c=3\n",
        "d=6\n",
        "resultado=round((a+b)/(c*d),2)\n",
        "print(f\"el resultado de la suma de {a} + {b} dividido por {c} x {d} es: {resultado}\")"
      ],
      "metadata": {
        "colab": {
          "base_uri": "https://localhost:8080/"
        },
        "id": "yQriBXM_848d",
        "outputId": "9be20687-39e4-465b-c3ef-74e2e540d04f"
      },
      "execution_count": 8,
      "outputs": [
        {
          "output_type": "stream",
          "name": "stdout",
          "text": [
            "el resultado de la suma de 7 + 4 dividido por 3 x 6 es: 0.61\n"
          ]
        }
      ]
    },
    {
      "cell_type": "markdown",
      "source": [
        "solicitar dos numeros a traves del teclado, luego realizar las operaciones basicas de suma, resta, multiplicacion, division y potenciacion. imprimir los resultados en un texto descriptivo"
      ],
      "metadata": {
        "id": "92x6MxWECnau"
      }
    },
    {
      "cell_type": "code",
      "source": [
        "num1 = input(\"Ingrese el primer número:\")\n",
        "num2 = input(\"Ingrese el segundo número:\")\n",
        "\n",
        "num_1 = float(num1)\n",
        "num_2 = float(num2)\n",
        "\n",
        "print(f\"la suma de {num1} y {num2} es {round(float(num1)+float(num2),3)}\")\n",
        "print(f\"la resta de {num1} y {num2} es {round(num_1-num_2,3)}\")\n",
        "print(f\"la multiplicación de {num1} y {num2} es {round(num_1*num_2,3)} \")\n",
        "\n",
        "try:\n",
        "  print(f\"la división de {num1} entre {num2} es {round(num_1/num_2,3)}\")\n",
        "except:\n",
        "  print(f\"la división por cero no está determinada\")\n",
        "\n",
        "print(f\"la potenciación de {num1} a la {num2} es {round(num_1**num_2,3)}\")\n",
        "\n",
        "\n"
      ],
      "metadata": {
        "colab": {
          "base_uri": "https://localhost:8080/"
        },
        "id": "w0dYjAhiCmPu",
        "outputId": "0525ba78-f0df-4a2f-ccb0-8a574578d62f"
      },
      "execution_count": 42,
      "outputs": [
        {
          "output_type": "stream",
          "name": "stdout",
          "text": [
            "Ingrese el primer número:18\n",
            "Ingrese el segundo número:0\n",
            "la suma de 18 y 0 es 18.0\n",
            "la resta de 18 y 0 es 18.0\n",
            "la multiplicación de 18 y 0 es 0.0 \n",
            "la división por cero no está determinada\n",
            "la potenciación de 18 a la 0 es 1.0\n"
          ]
        }
      ]
    },
    {
      "cell_type": "markdown",
      "source": [
        "\n"
      ],
      "metadata": {
        "id": "EGPHyO1J5YHz"
      }
    }
  ]
}